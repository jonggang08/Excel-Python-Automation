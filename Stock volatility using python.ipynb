{
 "cells": [
  {
   "cell_type": "code",
   "execution_count": 1,
   "metadata": {},
   "outputs": [],
   "source": [
    "import pandas as pd\n",
    "from alpha_vantage.timeseries import TimeSeries\n",
    "import time"
   ]
  },
  {
   "cell_type": "code",
   "execution_count": 6,
   "metadata": {},
   "outputs": [
    {
     "name": "stdout",
     "output_type": "stream",
     "text": [
      "                     1. open  2. high  3. low  4. close  5. volume\n",
      "date                                                              \n",
      "2021-07-20 20:00:00   279.85   279.85  279.85    279.85      163.0\n",
      "2021-07-20 19:54:00   279.80   279.80  279.80    279.80      531.0\n",
      "2021-07-20 19:48:00   279.80   279.80  279.80    279.80      503.0\n",
      "2021-07-20 19:47:00   279.85   279.85  279.85    279.85     1163.0\n",
      "2021-07-20 19:46:00   279.90   279.90  279.90    279.90      100.0\n",
      "...                      ...      ...     ...       ...        ...\n",
      "2021-07-07 04:19:00   279.00   279.00  279.00    279.00      759.0\n",
      "2021-07-07 04:17:00   279.01   279.07  279.00    279.07     6082.0\n",
      "2021-07-07 04:11:00   279.02   279.02  279.02    279.02      199.0\n",
      "2021-07-07 04:08:00   279.01   279.01  279.01    279.01      148.0\n",
      "2021-07-07 04:04:00   279.29   279.29  278.34    278.34     1089.0\n",
      "\n",
      "[5902 rows x 5 columns]\n"
     ]
    }
   ],
   "source": [
    "api_key ='WWYA48YGRKZPMWP7'\n",
    "\n",
    "ts = TimeSeries(key=api_key, output_format='pandas')\n",
    "data, meta_data = ts.get_intraday(symbol='MSFT', interval = '1min', outputsize = 'full')\n",
    "print(data)"
   ]
  },
  {
   "cell_type": "code",
   "execution_count": null,
   "metadata": {},
   "outputs": [],
   "source": [
    "## exporting stock data to new excel sheet\n",
    "\n",
    "#i = 1\n",
    "#while i==1:\n",
    "#    data, meta_data = ts.get_intraday(symbol='MSFT', interval = '1min', outputsize = 'full')\n",
    "#    data.to_excel(\"output.xlsx\")\n",
    "#    time.sleep(60)"
   ]
  },
  {
   "cell_type": "code",
   "execution_count": 7,
   "metadata": {},
   "outputs": [
    {
     "name": "stdout",
     "output_type": "stream",
     "text": [
      "date\n",
      "2021-07-20 20:00:00    279.85\n",
      "2021-07-20 19:54:00    279.80\n",
      "2021-07-20 19:48:00    279.80\n",
      "2021-07-20 19:47:00    279.85\n",
      "2021-07-20 19:46:00    279.90\n",
      "                        ...  \n",
      "2021-07-07 04:19:00    279.00\n",
      "2021-07-07 04:17:00    279.07\n",
      "2021-07-07 04:11:00    279.02\n",
      "2021-07-07 04:08:00    279.01\n",
      "2021-07-07 04:04:00    278.34\n",
      "Name: 4. close, Length: 5902, dtype: float64\n"
     ]
    }
   ],
   "source": [
    "closed_data = data['4. close']\n",
    "print(closed_data)"
   ]
  },
  {
   "cell_type": "code",
   "execution_count": 9,
   "metadata": {},
   "outputs": [
    {
     "name": "stdout",
     "output_type": "stream",
     "text": [
      "date\n",
      "2021-07-20 20:00:00         NaN\n",
      "2021-07-20 19:54:00   -0.000179\n",
      "2021-07-20 19:48:00    0.000000\n",
      "2021-07-20 19:47:00    0.000179\n",
      "2021-07-20 19:46:00    0.000179\n",
      "                         ...   \n",
      "2021-07-07 04:19:00    0.000430\n",
      "2021-07-07 04:17:00    0.000251\n",
      "2021-07-07 04:11:00   -0.000179\n",
      "2021-07-07 04:08:00   -0.000036\n",
      "2021-07-07 04:04:00   -0.002401\n",
      "Name: 4. close, Length: 5902, dtype: float64\n"
     ]
    }
   ],
   "source": [
    "percentage_change = closed_data.pct_change()\n",
    "print(percentage_change)"
   ]
  },
  {
   "cell_type": "code",
   "execution_count": 12,
   "metadata": {},
   "outputs": [
    {
     "name": "stdout",
     "output_type": "stream",
     "text": [
      "MSFT Alert:-0.0024013476219491015\n"
     ]
    }
   ],
   "source": [
    "last_change = percentage_change[-1]\n",
    "if abs(last_change) > 0.0020:\n",
    "    print(\"MSFT Alert:\" + str(last_change))"
   ]
  },
  {
   "cell_type": "code",
   "execution_count": null,
   "metadata": {},
   "outputs": [],
   "source": []
  }
 ],
 "metadata": {
  "kernelspec": {
   "display_name": "Python 3",
   "language": "python",
   "name": "python3"
  },
  "language_info": {
   "codemirror_mode": {
    "name": "ipython",
    "version": 3
   },
   "file_extension": ".py",
   "mimetype": "text/x-python",
   "name": "python",
   "nbconvert_exporter": "python",
   "pygments_lexer": "ipython3",
   "version": "3.8.5"
  }
 },
 "nbformat": 4,
 "nbformat_minor": 4
}
